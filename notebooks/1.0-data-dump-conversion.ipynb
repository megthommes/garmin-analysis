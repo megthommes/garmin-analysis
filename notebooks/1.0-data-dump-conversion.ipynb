{
 "cells": [
  {
   "cell_type": "markdown",
   "id": "27630578",
   "metadata": {},
   "source": [
    "\n",
    "Exported data out of Account Management Center at [https://www.garmin.com/en-US/account/datamanagement/](https://www.garmin.com/en-US/account/datamanagement/) on 2021-06-20"
   ]
  },
  {
   "cell_type": "code",
   "execution_count": 1,
   "id": "983cbccb",
   "metadata": {},
   "outputs": [],
   "source": [
    "import os\n",
    "import json\n",
    "import pandas as pd\n",
    "from glob import glob"
   ]
  },
  {
   "cell_type": "code",
   "execution_count": 2,
   "id": "111f78e6",
   "metadata": {},
   "outputs": [],
   "source": [
    "basepath_repo = os.path.dirname(os.getcwd())\n",
    "basepath_garmin = '/mnt/g/My Drive/Health/Garmin_20210620/'\n",
    "account_email = 'meghan.thommes@gmail.com'"
   ]
  },
  {
   "cell_type": "markdown",
   "id": "875cc3dc",
   "metadata": {},
   "source": [
    "# Functions"
   ]
  },
  {
   "cell_type": "code",
   "execution_count": 3,
   "id": "b52715d0",
   "metadata": {},
   "outputs": [],
   "source": [
    "def read_json(fname:str):\n",
    "    '''\n",
    "    read json from file\n",
    "    REQUIRED INPUTS\n",
    "        fname (str): full path to file\n",
    "    RETURNS\n",
    "        data (dict*): the read json file, presumably a dict\n",
    "    '''\n",
    "    \n",
    "    # open file\n",
    "    f = open(fname)\n",
    "    \n",
    "    # read file\n",
    "    data = json.load(f)\n",
    "    \n",
    "    # close file\n",
    "    f.close()\n",
    "    \n",
    "    return data"
   ]
  },
  {
   "cell_type": "code",
   "execution_count": 4,
   "id": "dd5f8696",
   "metadata": {},
   "outputs": [],
   "source": [
    "def dict_to_df(data_dict:dict):\n",
    "    '''\n",
    "    convert a list of dicts to a dataframe\n",
    "    REQUIRED INPUTS\n",
    "        data_dict (dict): list of dictionaries to be converted to a dataframe,\n",
    "                          where each dictionary should have the same keys\n",
    "    RETURNS\n",
    "        data_df (pd.DataFrame): pandas dataframe of all elements in data_dict\n",
    "    '''\n",
    "    \n",
    "    # get column names\n",
    "    col_names = list(data_dict[0].keys())\n",
    "    \n",
    "    # loop through dict and convert to dataframe\n",
    "    data_df = pd.concat(\n",
    "        [pd.DataFrame(elem, index = [0], columns = col_names) for elem in data_dict],\n",
    "        ignore_index = True,\n",
    "    )\n",
    "    \n",
    "    return data_df"
   ]
  },
  {
   "cell_type": "code",
   "execution_count": 5,
   "id": "fdf61be0",
   "metadata": {},
   "outputs": [],
   "source": [
    "def read_sleep_json(fname:str):\n",
    "    '''\n",
    "    convert json containing sleep data to pandas DataFrame\n",
    "    REQUIRED INPUTS\n",
    "        fname (str): full path to json file of Garmin sleep data\n",
    "    RETURNS\n",
    "        sleep_df (pd.DataFrame): pandas dataframe of Garmin sleep data\n",
    "    '''\n",
    "    \n",
    "    # load data\n",
    "    sleep_dict = read_json(fname)\n",
    "    \n",
    "    # convert to dataframe\n",
    "    sleep_df = dict_to_df(sleep_dict)\n",
    "\n",
    "    return sleep_df"
   ]
  },
  {
   "cell_type": "markdown",
   "id": "1da466c5",
   "metadata": {},
   "source": [
    "# Summarized Activities"
   ]
  },
  {
   "cell_type": "code",
   "execution_count": 6,
   "id": "835de06b",
   "metadata": {},
   "outputs": [
    {
     "name": "stdout",
     "output_type": "stream",
     "text": [
      "<class 'pandas.core.frame.DataFrame'>\n",
      "RangeIndex: 909 entries, 0 to 908\n",
      "Data columns (total 52 columns):\n",
      " #   Column                Non-Null Count  Dtype  \n",
      "---  ------                --------------  -----  \n",
      " 0   activityId            909 non-null    int64  \n",
      " 1   uuidMsb               909 non-null    int64  \n",
      " 2   uuidLsb               909 non-null    int64  \n",
      " 3   name                  909 non-null    object \n",
      " 4   activityType          909 non-null    object \n",
      " 5   userProfileId         909 non-null    int64  \n",
      " 6   timeZoneId            909 non-null    int64  \n",
      " 7   beginTimestamp        909 non-null    int64  \n",
      " 8   eventTypeId           909 non-null    int64  \n",
      " 9   rule                  909 non-null    object \n",
      " 10  sportType             909 non-null    object \n",
      " 11  startTimeGmt          909 non-null    float64\n",
      " 12  startTimeLocal        909 non-null    float64\n",
      " 13  duration              909 non-null    float64\n",
      " 14  distance              907 non-null    object \n",
      " 15  elevationGain         772 non-null    object \n",
      " 16  elevationLoss         776 non-null    object \n",
      " 17  avgSpeed              907 non-null    object \n",
      " 18  maxSpeed              907 non-null    object \n",
      " 19  avgHr                 908 non-null    object \n",
      " 20  maxHr                 908 non-null    object \n",
      " 21  maxRunCadence         886 non-null    object \n",
      " 22  steps                 887 non-null    object \n",
      " 23  calories              909 non-null    float64\n",
      " 24  startLongitude        840 non-null    object \n",
      " 25  startLatitude         840 non-null    object \n",
      " 26  avgStrideLength       885 non-null    object \n",
      " 27  avgFractionalCadence  909 non-null    float64\n",
      " 28  maxFractionalCadence  909 non-null    float64\n",
      " 29  vO2MaxValue           590 non-null    object \n",
      " 30  elapsedDuration       909 non-null    float64\n",
      " 31  movingDuration        909 non-null    float64\n",
      " 32  deviceId              909 non-null    int64  \n",
      " 33  minElevation          836 non-null    object \n",
      " 34  maxElevation          836 non-null    object \n",
      " 35  avgDoubleCadence      886 non-null    object \n",
      " 36  maxDoubleCadence      886 non-null    object \n",
      " 37  locationName          833 non-null    object \n",
      " 38  summarizedDiveInfo    0 non-null      float64\n",
      " 39  maxVerticalSpeed      836 non-null    object \n",
      " 40  manufacturer          212 non-null    object \n",
      " 41  lapCount              909 non-null    int64  \n",
      " 42  endLongitude          209 non-null    object \n",
      " 43  endLatitude           209 non-null    object \n",
      " 44  waterEstimated        212 non-null    object \n",
      " 45  purposeful            909 non-null    bool   \n",
      " 46  autoCalcCalories      909 non-null    bool   \n",
      " 47  favorite              909 non-null    bool   \n",
      " 48  pr                    909 non-null    bool   \n",
      " 49  elevationCorrected    909 non-null    bool   \n",
      " 50  atpActivity           717 non-null    object \n",
      " 51  parent                909 non-null    bool   \n",
      "dtypes: bool(6), float64(9), int64(9), object(28)\n",
      "memory usage: 332.1+ KB\n"
     ]
    }
   ],
   "source": [
    "ftype = 'summarizedActivities'\n",
    "# filename\n",
    "fname = os.path.join(\n",
    "    basepath_garmin,\n",
    "    'DI_CONNECT/DI-Connect-Fitness/' + account_email + '_0_' + ftype + '.json,DI-Connect-Fitness',\n",
    "    account_email + '_0_' + ftype + '.json'\n",
    ")\n",
    "# load data\n",
    "activities_data = read_json(fname)\n",
    "# loads as a list, not a dict, so get first element\n",
    "activities_dict = activities_data[0][ftype + 'Export']\n",
    "# convert to dataframe\n",
    "activities_df = dict_to_df(activities_dict)\n",
    "\n",
    "activities_df.info()"
   ]
  },
  {
   "cell_type": "markdown",
   "id": "b15bd1ad",
   "metadata": {},
   "source": [
    "## Save to CSV"
   ]
  },
  {
   "cell_type": "code",
   "execution_count": 7,
   "id": "63bf3242",
   "metadata": {},
   "outputs": [],
   "source": [
    "fname_save = os.path.join(\n",
    "    basepath_repo,\n",
    "    'data',\n",
    "    'processed',\n",
    "    ftype + '.csv'\n",
    ")\n",
    "\n",
    "activities_df.to_csv(\n",
    "    fname_save,\n",
    "    index = False,\n",
    ")"
   ]
  },
  {
   "cell_type": "markdown",
   "id": "6e6851ba",
   "metadata": {},
   "source": [
    "# Sleep Data"
   ]
  },
  {
   "cell_type": "code",
   "execution_count": 8,
   "id": "24e1b47d",
   "metadata": {},
   "outputs": [
    {
     "name": "stdout",
     "output_type": "stream",
     "text": [
      "<class 'pandas.core.frame.DataFrame'>\n",
      "RangeIndex: 830 entries, 0 to 829\n",
      "Data columns (total 13 columns):\n",
      " #   Column                       Non-Null Count  Dtype \n",
      "---  ------                       --------------  ----- \n",
      " 0   sleepStartTimestampGMT       830 non-null    object\n",
      " 1   sleepEndTimestampGMT         830 non-null    object\n",
      " 2   calendarDate                 830 non-null    object\n",
      " 3   sleepWindowConfirmationType  830 non-null    object\n",
      " 4   deepSleepSeconds             633 non-null    object\n",
      " 5   lightSleepSeconds            633 non-null    object\n",
      " 6   remSleepSeconds              513 non-null    object\n",
      " 7   awakeSleepSeconds            633 non-null    object\n",
      " 8   unmeasurableSeconds          633 non-null    object\n",
      " 9   retro                        830 non-null    bool  \n",
      " 10  averageRespiration           95 non-null     object\n",
      " 11  lowestRespiration            95 non-null     object\n",
      " 12  highestRespiration           95 non-null     object\n",
      "dtypes: bool(1), object(12)\n",
      "memory usage: 78.7+ KB\n"
     ]
    }
   ],
   "source": [
    "ftype = 'sleepData'\n",
    "# filename\n",
    "fpath = os.path.join(\n",
    "    basepath_garmin,\n",
    "    'DI_CONNECT/DI-Connect-Wellness/'\n",
    ")\n",
    "\n",
    "folders = glob(fpath + '/*_' + ftype + '.json*')\n",
    "# each folder contains a single json\n",
    "fnames = [glob(folder + '/*.json')[0] for folder in folders]\n",
    "\n",
    "# concat all files into single dataframe\n",
    "sleep_df = pd.concat(\n",
    "    [read_sleep_json(fname) for fname in fnames],\n",
    "    ignore_index = True,\n",
    ")\n",
    "\n",
    "sleep_df.info()"
   ]
  },
  {
   "cell_type": "markdown",
   "id": "00f208ae",
   "metadata": {},
   "source": [
    "## Save to CSV"
   ]
  },
  {
   "cell_type": "code",
   "execution_count": 9,
   "id": "2edcae76",
   "metadata": {},
   "outputs": [],
   "source": [
    "fname_save = os.path.join(\n",
    "    basepath_repo,\n",
    "    'data',\n",
    "    'processed',\n",
    "    ftype + '.csv'\n",
    ")\n",
    "\n",
    "sleep_df.to_csv(\n",
    "    fname_save,\n",
    "    index = False,\n",
    ")"
   ]
  }
 ],
 "metadata": {
  "kernelspec": {
   "display_name": "Python 3",
   "language": "python",
   "name": "python3"
  },
  "language_info": {
   "codemirror_mode": {
    "name": "ipython",
    "version": 3
   },
   "file_extension": ".py",
   "mimetype": "text/x-python",
   "name": "python",
   "nbconvert_exporter": "python",
   "pygments_lexer": "ipython3",
   "version": "3.9.5"
  }
 },
 "nbformat": 4,
 "nbformat_minor": 5
}
